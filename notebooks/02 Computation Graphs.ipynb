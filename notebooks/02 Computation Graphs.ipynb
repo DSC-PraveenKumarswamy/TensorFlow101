{
 "cells": [
  {
   "cell_type": "markdown",
   "metadata": {},
   "source": [
    "# Computation Graphs\n",
    "\n",
    "TensorFlow allows us to implement machine learning algorithms by creating and computing operations that interact with one another. These interactions form what we call a “computation graph,” with which we can intuitively represent complicated functional architectures."
   ]
  },
  {
   "cell_type": "code",
   "execution_count": null,
   "metadata": {},
   "outputs": [],
   "source": [
    "import tensorflow as tf\n",
    "print(tf.__version__)"
   ]
  },
  {
   "cell_type": "markdown",
   "metadata": {},
   "source": [
    "## Example\n",
    "\n",
    "![Node Dependencies](img/graph_example.png)"
   ]
  },
  {
   "cell_type": "code",
   "execution_count": null,
   "metadata": {},
   "outputs": [],
   "source": [
    "a = tf.constant(5) \n",
    "b = tf.constant(2)\n",
    "c = tf.constant(3)\n",
    "\n",
    "d = tf.multiply(a,b) \n",
    "e = tf.add(c,b) \n",
    "f = tf.subtract(d,e)\n",
    "\n",
    "sess = tf.Session() \n",
    "outs = sess.run(f) \n",
    "sess.close() \n",
    "print(\"outs = {}\".format(outs))"
   ]
  },
  {
   "cell_type": "markdown",
   "metadata": {},
   "source": [
    "## Exercise\n",
    "\n",
    "Create a Computation Graph for figure A and B:\n",
    "\n",
    "![Try it yourself](img/graph_exercise.png)\n",
    "\n",
    "<a href=\"https://www.tensorflow.org/api_docs/cc/group/math-ops\" target=\"_blank\">Reference: TensorFlow - Math Operations</a>"
   ]
  },
  {
   "cell_type": "code",
   "execution_count": null,
   "metadata": {},
   "outputs": [],
   "source": [
    "a = tf.constant(5.0) \n",
    "b = tf.constant(2.0)\n",
    "\n",
    "# ADD YOUR CODE HERE\n",
    "\n",
    "with tf.Session() as sess:\n",
    "   fetches = [a,b,c,d,e,f,g]\n",
    "   outs = sess.run(fetches) \n",
    "\n",
    "print(\"outs = {}\".format(outs))\n",
    "print(type(outs[0]))"
   ]
  },
  {
   "cell_type": "code",
   "execution_count": null,
   "metadata": {},
   "outputs": [],
   "source": [
    "a = tf.constant(5.0) \n",
    "b = tf.constant(2.0)\n",
    "\n",
    "# ADD YOUR CODE HERE\n",
    "\n",
    "with tf.Session() as sess:\n",
    "   fetches = [a,b,c,d,e]\n",
    "   outs = sess.run(fetches) \n",
    "\n",
    "print(\"outs = {}\".format(outs))\n",
    "print(type(outs[0]))"
   ]
  }
 ],
 "metadata": {
  "kernelspec": {
   "display_name": "Python 3",
   "language": "python",
   "name": "python3"
  },
  "language_info": {
   "codemirror_mode": {
    "name": "ipython",
    "version": 3
   },
   "file_extension": ".py",
   "mimetype": "text/x-python",
   "name": "python",
   "nbconvert_exporter": "python",
   "pygments_lexer": "ipython3",
   "version": "3.5.2"
  }
 },
 "nbformat": 4,
 "nbformat_minor": 2
}
