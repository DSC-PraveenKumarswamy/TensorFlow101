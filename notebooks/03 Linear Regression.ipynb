{
 "cells": [
  {
   "cell_type": "markdown",
   "metadata": {},
   "source": [
    "# Linear Regression"
   ]
  },
  {
   "cell_type": "code",
   "execution_count": null,
   "metadata": {},
   "outputs": [],
   "source": [
    "import tensorflow as tf\n",
    "import numpy as np\n",
    "import math\n",
    "import matplotlib.pyplot as plt\n",
    "\n",
    "print(tf.__version__)"
   ]
  },
  {
   "cell_type": "markdown",
   "metadata": {},
   "source": [
    "## Generate Demo Data"
   ]
  },
  {
   "cell_type": "code",
   "execution_count": null,
   "metadata": {},
   "outputs": [],
   "source": [
    "#  generation some house sizes between 1000 and 3500 (typical sq ft of house)\n",
    "num_house = 160\n",
    "np.random.seed(58)\n",
    "house_size = np.random.randint(low=1000, high=3500, size=num_house )\n",
    "\n",
    "# Generate house prices from house size with a random noise added.\n",
    "np.random.seed(58)\n",
    "house_price = house_size * 100.0 + np.random.randint(low=20000, high=70000, size=num_house)  \n",
    "\n",
    "# Plot generated house and size \n",
    "plt.plot(house_size, house_price, \"bx\")  # bx = blue x\n",
    "plt.ylabel(\"Price\")\n",
    "plt.xlabel(\"Size\")\n",
    "plt.show()"
   ]
  },
  {
   "cell_type": "markdown",
   "metadata": {},
   "source": [
    "## Split Data Into Training and Test"
   ]
  },
  {
   "cell_type": "code",
   "execution_count": null,
   "metadata": {},
   "outputs": [],
   "source": [
    "# you need to normalize values to prevent under/overflows.\n",
    "def normalize(array):\n",
    "    return (array - array.mean()) / array.std()\n",
    "\n",
    "# define number of training samples, 0.7 = 70%.  We can take the first 70% since the values are randomized\n",
    "num_train_samples = int(math.floor(num_house * 0.7))\n",
    "\n",
    "# define training data\n",
    "train_house_size = np.asarray(house_size[:num_train_samples])\n",
    "train_price = np.asanyarray(house_price[:num_train_samples:])\n",
    "\n",
    "train_house_size_norm = normalize(train_house_size)\n",
    "train_price_norm = normalize(train_price)\n",
    "\n",
    "# define test data\n",
    "test_house_size = np.array(house_size[num_train_samples:])\n",
    "test_house_price = np.array(house_price[num_train_samples:])\n",
    "\n",
    "test_house_size_norm = normalize(test_house_size)\n",
    "test_house_price_norm = normalize(test_house_price)\n",
    "\n",
    "# Plot the graph\n",
    "plt.rcParams[\"figure.figsize\"] = (10,8)\n",
    "plt.figure()\n",
    "plt.ylabel(\"Price\")\n",
    "plt.xlabel(\"Size (sq.ft)\")\n",
    "plt.plot(train_house_size, train_price, 'go', label='Training data')\n",
    "plt.plot(test_house_size, test_house_price, 'mo', label='Testing data')\n",
    "\n",
    "plt.legend(loc='upper left')\n",
    "plt.show()"
   ]
  },
  {
   "cell_type": "markdown",
   "metadata": {},
   "source": [
    "## Define Model"
   ]
  },
  {
   "cell_type": "code",
   "execution_count": null,
   "metadata": {},
   "outputs": [],
   "source": [
    "#  Set up the TensorFlow placeholders that get updated as we descend down the gradient\n",
    "tf_house_size = tf.placeholder(\"float\", name=\"house_size\") # x / features\n",
    "tf_price = tf.placeholder(\"float\", name=\"price\") # y_ / labels\n",
    "\n",
    "# Define the variables holding the size_factor and price we set during training.  \n",
    "# We initialize them to some random values based on the normal distribution.\n",
    "tf_size_factor = tf.Variable(np.random.randn(), name=\"size_factor\") # weights\n",
    "tf_price_offset = tf.Variable(np.random.randn(), name=\"price_offset\") # bias"
   ]
  },
  {
   "cell_type": "markdown",
   "metadata": {},
   "source": [
    "### Hypothesis\n",
    "Define the operations for the predicting values:\n",
    "![Hypothesis](img/lin_reg_hypothesis.png)\n",
    "Notice, the use of the tensorflow add and multiply functions. These add the operations to the computation graph, AND the tensorflow methods understand how to deal with Tensors.  Therefore do not try to use numpy or other library methods."
   ]
  },
  {
   "cell_type": "code",
   "execution_count": null,
   "metadata": {},
   "outputs": [],
   "source": [
    "tf_price_pred = # ADD YOUR CODE HERE"
   ]
  },
  {
   "cell_type": "markdown",
   "metadata": {},
   "source": [
    "### Loss Function\n",
    "Define the Loss Function (how much error) - Mean squared error\n",
    "![MeanSquaredError1](img/mean_squared_error.png)"
   ]
  },
  {
   "cell_type": "code",
   "execution_count": null,
   "metadata": {},
   "outputs": [],
   "source": [
    "loss = # ADD YOUR CODE HERE"
   ]
  },
  {
   "cell_type": "markdown",
   "metadata": {},
   "source": [
    "### Gradient Descent\n",
    "![MeanSquaredError1](img/gradient_descent.png)"
   ]
  },
  {
   "cell_type": "code",
   "execution_count": null,
   "metadata": {},
   "outputs": [],
   "source": [
    "# Optimizer learning rate.  The size of the steps down the gradient\n",
    "learning_rate = 0.1\n",
    "\n",
    "# 4. define a Gradient descent optimizer that will minimize the loss defined in the operation \"cost\".\n",
    "optimizer = tf.train.GradientDescentOptimizer(learning_rate)\n",
    "train = optimizer.minimize(loss)"
   ]
  },
  {
   "cell_type": "markdown",
   "metadata": {},
   "source": [
    "## Train Model"
   ]
  },
  {
   "cell_type": "code",
   "execution_count": null,
   "metadata": {},
   "outputs": [],
   "source": [
    "# Initializing the variables\n",
    "init = tf.global_variables_initializer()\n",
    "\n",
    "size_factor = None\n",
    "price_offset = None\n",
    "\n",
    "# Launch the graph in the session\n",
    "with tf.Session() as sess:\n",
    "    sess.run(init)\n",
    "\n",
    "    # set how often to display training progress and number of training iterations\n",
    "    display_every = 2\n",
    "    num_training_iter = 50\n",
    "\n",
    "    # keep iterating the training data\n",
    "    for iteration in range(num_training_iter):\n",
    "\n",
    "        # Fit all training data\n",
    "        for (x, y) in zip(train_house_size_norm, train_price_norm):\n",
    "            sess.run(train, feed_dict={tf_house_size: x, tf_price: y})\n",
    "\n",
    "        # Display current status\n",
    "        if (iteration + 1) % display_every == 0:\n",
    "            c = sess.run(loss, feed_dict={tf_house_size: train_house_size_norm, tf_price:train_price_norm})\n",
    "            print(\"iteration #:\", '%04d' % (iteration + 1), \"cost=\", \"{:.9f}\".format(c), \\\n",
    "                \"size_factor=\", sess.run(tf_size_factor), \"price_offset=\", sess.run(tf_price_offset))\n",
    "\n",
    "    print(\"Optimization Finished!\")\n",
    "    training_cost = sess.run(loss, feed_dict={tf_house_size: train_house_size_norm, tf_price: train_price_norm})\n",
    "    size_factor = sess.run(tf_size_factor)\n",
    "    price_offset = sess.run(tf_price_offset)\n",
    "    print(\"Trained cost=\", training_cost, \"size_factor=\", size_factor, \"price_offset=\", price_offset, '\\n')\n",
    "    \n",
    "    # Plot of training and test data, and learned regression\n",
    "    \n",
    "    # get values used to normalized data so we can denormalize data back to its original scale\n",
    "    train_house_size_mean = train_house_size.mean()\n",
    "    train_house_size_std = train_house_size.std()\n",
    "\n",
    "    train_price_mean = train_price.mean()\n",
    "    train_price_std = train_price.std()\n",
    "    \n",
    "    # Plot the graph\n",
    "    plt.rcParams[\"figure.figsize\"] = (10,8)\n",
    "    plt.figure()\n",
    "    plt.ylabel(\"Price\")\n",
    "    plt.xlabel(\"Size (sq.ft)\")\n",
    "    plt.plot(train_house_size, train_price, 'go', label='Training data')\n",
    "    plt.plot(test_house_size, test_house_price, 'mo', label='Testing data')\n",
    "    plt.plot(train_house_size_norm * train_house_size_std + train_house_size_mean,\n",
    "             (size_factor * train_house_size_norm + price_offset) * train_price_std + train_price_mean,\n",
    "             label='Learned Regression')\n",
    " \n",
    "    plt.legend(loc='upper left')\n",
    "    plt.show()"
   ]
  }
 ],
 "metadata": {
  "kernelspec": {
   "display_name": "Python 3",
   "language": "python",
   "name": "python3"
  },
  "language_info": {
   "codemirror_mode": {
    "name": "ipython",
    "version": 3
   },
   "file_extension": ".py",
   "mimetype": "text/x-python",
   "name": "python",
   "nbconvert_exporter": "python",
   "pygments_lexer": "ipython3",
   "version": "3.5.2"
  }
 },
 "nbformat": 4,
 "nbformat_minor": 2
}
